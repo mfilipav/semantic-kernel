{
 "cells": [
  {
   "attachments": {},
   "cell_type": "markdown",
   "metadata": {},
   "source": [
    "# Setup\n",
    "\n",
    "Import Semantic Kernel SDK from pypi.org"
   ]
  },
  {
   "cell_type": "code",
   "execution_count": 1,
   "metadata": {},
   "outputs": [
    {
     "name": "stdout",
     "output_type": "stream",
     "text": [
      "Requirement already satisfied: semantic-kernel in /Users/mfilipav/dev/semantic-kernel/python/venv/lib/python3.11/site-packages (1.28.1)\n",
      "Requirement already satisfied: aiohttp~=3.8 in /Users/mfilipav/dev/semantic-kernel/python/venv/lib/python3.11/site-packages (from semantic-kernel) (3.11.17)\n",
      "Requirement already satisfied: cloudevents~=1.0 in /Users/mfilipav/dev/semantic-kernel/python/venv/lib/python3.11/site-packages (from semantic-kernel) (1.11.0)\n",
      "Requirement already satisfied: pydantic!=2.10.0,!=2.10.1,!=2.10.2,!=2.10.3,<2.12,>=2.0 in /Users/mfilipav/dev/semantic-kernel/python/venv/lib/python3.11/site-packages (from semantic-kernel) (2.11.3)\n",
      "Requirement already satisfied: pydantic-settings~=2.0 in /Users/mfilipav/dev/semantic-kernel/python/venv/lib/python3.11/site-packages (from semantic-kernel) (2.9.1)\n",
      "Requirement already satisfied: defusedxml~=0.7 in /Users/mfilipav/dev/semantic-kernel/python/venv/lib/python3.11/site-packages (from semantic-kernel) (0.7.1)\n",
      "Requirement already satisfied: azure-identity>=1.13 in /Users/mfilipav/dev/semantic-kernel/python/venv/lib/python3.11/site-packages (from semantic-kernel) (1.21.0)\n",
      "Requirement already satisfied: numpy>=1.25.0 in /Users/mfilipav/dev/semantic-kernel/python/venv/lib/python3.11/site-packages (from semantic-kernel) (2.2.5)\n",
      "Requirement already satisfied: openai>=1.67 in /Users/mfilipav/dev/semantic-kernel/python/venv/lib/python3.11/site-packages (from semantic-kernel) (1.75.0)\n",
      "Requirement already satisfied: openapi_core<0.20,>=0.18 in /Users/mfilipav/dev/semantic-kernel/python/venv/lib/python3.11/site-packages (from semantic-kernel) (0.19.5)\n",
      "Requirement already satisfied: websockets<16,>=13 in /Users/mfilipav/dev/semantic-kernel/python/venv/lib/python3.11/site-packages (from semantic-kernel) (15.0.1)\n",
      "Requirement already satisfied: aiortc>=1.9.0 in /Users/mfilipav/dev/semantic-kernel/python/venv/lib/python3.11/site-packages (from semantic-kernel) (1.11.0)\n",
      "Requirement already satisfied: opentelemetry-api~=1.24 in /Users/mfilipav/dev/semantic-kernel/python/venv/lib/python3.11/site-packages (from semantic-kernel) (1.32.1)\n",
      "Requirement already satisfied: opentelemetry-sdk~=1.24 in /Users/mfilipav/dev/semantic-kernel/python/venv/lib/python3.11/site-packages (from semantic-kernel) (1.32.1)\n",
      "Requirement already satisfied: prance~=23.6.21.0 in /Users/mfilipav/dev/semantic-kernel/python/venv/lib/python3.11/site-packages (from semantic-kernel) (23.6.21.0)\n",
      "Requirement already satisfied: pybars4~=0.9 in /Users/mfilipav/dev/semantic-kernel/python/venv/lib/python3.11/site-packages (from semantic-kernel) (0.9.13)\n",
      "Requirement already satisfied: jinja2~=3.1 in /Users/mfilipav/dev/semantic-kernel/python/venv/lib/python3.11/site-packages (from semantic-kernel) (3.1.6)\n",
      "Requirement already satisfied: nest-asyncio~=1.6 in /Users/mfilipav/dev/semantic-kernel/python/venv/lib/python3.11/site-packages (from semantic-kernel) (1.6.0)\n",
      "Requirement already satisfied: scipy>=1.15.1 in /Users/mfilipav/dev/semantic-kernel/python/venv/lib/python3.11/site-packages (from semantic-kernel) (1.15.2)\n",
      "Requirement already satisfied: aiohappyeyeballs>=2.3.0 in /Users/mfilipav/dev/semantic-kernel/python/venv/lib/python3.11/site-packages (from aiohttp~=3.8->semantic-kernel) (2.6.1)\n",
      "Requirement already satisfied: aiosignal>=1.1.2 in /Users/mfilipav/dev/semantic-kernel/python/venv/lib/python3.11/site-packages (from aiohttp~=3.8->semantic-kernel) (1.3.2)\n",
      "Requirement already satisfied: attrs>=17.3.0 in /Users/mfilipav/dev/semantic-kernel/python/venv/lib/python3.11/site-packages (from aiohttp~=3.8->semantic-kernel) (25.3.0)\n",
      "Requirement already satisfied: frozenlist>=1.1.1 in /Users/mfilipav/dev/semantic-kernel/python/venv/lib/python3.11/site-packages (from aiohttp~=3.8->semantic-kernel) (1.6.0)\n",
      "Requirement already satisfied: multidict<7.0,>=4.5 in /Users/mfilipav/dev/semantic-kernel/python/venv/lib/python3.11/site-packages (from aiohttp~=3.8->semantic-kernel) (6.4.3)\n",
      "Requirement already satisfied: propcache>=0.2.0 in /Users/mfilipav/dev/semantic-kernel/python/venv/lib/python3.11/site-packages (from aiohttp~=3.8->semantic-kernel) (0.3.1)\n",
      "Requirement already satisfied: yarl<2.0,>=1.17.0 in /Users/mfilipav/dev/semantic-kernel/python/venv/lib/python3.11/site-packages (from aiohttp~=3.8->semantic-kernel) (1.20.0)\n",
      "Requirement already satisfied: aioice<1.0.0,>=0.9.0 in /Users/mfilipav/dev/semantic-kernel/python/venv/lib/python3.11/site-packages (from aiortc>=1.9.0->semantic-kernel) (0.10.1)\n",
      "Requirement already satisfied: av<15.0.0,>=14.0.0 in /Users/mfilipav/dev/semantic-kernel/python/venv/lib/python3.11/site-packages (from aiortc>=1.9.0->semantic-kernel) (14.3.0)\n",
      "Requirement already satisfied: cffi>=1.0.0 in /Users/mfilipav/dev/semantic-kernel/python/venv/lib/python3.11/site-packages (from aiortc>=1.9.0->semantic-kernel) (1.17.1)\n",
      "Requirement already satisfied: cryptography>=44.0.0 in /Users/mfilipav/dev/semantic-kernel/python/venv/lib/python3.11/site-packages (from aiortc>=1.9.0->semantic-kernel) (44.0.2)\n",
      "Requirement already satisfied: google-crc32c>=1.1 in /Users/mfilipav/dev/semantic-kernel/python/venv/lib/python3.11/site-packages (from aiortc>=1.9.0->semantic-kernel) (1.7.1)\n",
      "Requirement already satisfied: pyee>=13.0.0 in /Users/mfilipav/dev/semantic-kernel/python/venv/lib/python3.11/site-packages (from aiortc>=1.9.0->semantic-kernel) (13.0.0)\n",
      "Requirement already satisfied: pylibsrtp>=0.10.0 in /Users/mfilipav/dev/semantic-kernel/python/venv/lib/python3.11/site-packages (from aiortc>=1.9.0->semantic-kernel) (0.12.0)\n",
      "Requirement already satisfied: pyopenssl>=25.0.0 in /Users/mfilipav/dev/semantic-kernel/python/venv/lib/python3.11/site-packages (from aiortc>=1.9.0->semantic-kernel) (25.0.0)\n",
      "Requirement already satisfied: azure-core>=1.31.0 in /Users/mfilipav/dev/semantic-kernel/python/venv/lib/python3.11/site-packages (from azure-identity>=1.13->semantic-kernel) (1.33.0)\n",
      "Requirement already satisfied: msal>=1.30.0 in /Users/mfilipav/dev/semantic-kernel/python/venv/lib/python3.11/site-packages (from azure-identity>=1.13->semantic-kernel) (1.32.0)\n",
      "Requirement already satisfied: msal-extensions>=1.2.0 in /Users/mfilipav/dev/semantic-kernel/python/venv/lib/python3.11/site-packages (from azure-identity>=1.13->semantic-kernel) (1.3.1)\n",
      "Requirement already satisfied: typing-extensions>=4.0.0 in /Users/mfilipav/dev/semantic-kernel/python/venv/lib/python3.11/site-packages (from azure-identity>=1.13->semantic-kernel) (4.13.2)\n",
      "Requirement already satisfied: deprecation<3.0,>=2.0 in /Users/mfilipav/dev/semantic-kernel/python/venv/lib/python3.11/site-packages (from cloudevents~=1.0->semantic-kernel) (2.1.0)\n",
      "Requirement already satisfied: MarkupSafe>=2.0 in /Users/mfilipav/dev/semantic-kernel/python/venv/lib/python3.11/site-packages (from jinja2~=3.1->semantic-kernel) (3.0.2)\n",
      "Requirement already satisfied: anyio<5,>=3.5.0 in /Users/mfilipav/dev/semantic-kernel/python/venv/lib/python3.11/site-packages (from openai>=1.67->semantic-kernel) (4.9.0)\n",
      "Requirement already satisfied: distro<2,>=1.7.0 in /Users/mfilipav/dev/semantic-kernel/python/venv/lib/python3.11/site-packages (from openai>=1.67->semantic-kernel) (1.9.0)\n",
      "Requirement already satisfied: httpx<1,>=0.23.0 in /Users/mfilipav/dev/semantic-kernel/python/venv/lib/python3.11/site-packages (from openai>=1.67->semantic-kernel) (0.28.1)\n",
      "Requirement already satisfied: jiter<1,>=0.4.0 in /Users/mfilipav/dev/semantic-kernel/python/venv/lib/python3.11/site-packages (from openai>=1.67->semantic-kernel) (0.9.0)\n",
      "Requirement already satisfied: sniffio in /Users/mfilipav/dev/semantic-kernel/python/venv/lib/python3.11/site-packages (from openai>=1.67->semantic-kernel) (1.3.1)\n",
      "Requirement already satisfied: tqdm>4 in /Users/mfilipav/dev/semantic-kernel/python/venv/lib/python3.11/site-packages (from openai>=1.67->semantic-kernel) (4.67.1)\n",
      "Requirement already satisfied: isodate in /Users/mfilipav/dev/semantic-kernel/python/venv/lib/python3.11/site-packages (from openapi_core<0.20,>=0.18->semantic-kernel) (0.7.2)\n",
      "Requirement already satisfied: jsonschema<5.0.0,>=4.18.0 in /Users/mfilipav/dev/semantic-kernel/python/venv/lib/python3.11/site-packages (from openapi_core<0.20,>=0.18->semantic-kernel) (4.23.0)\n",
      "Requirement already satisfied: jsonschema-path<0.4.0,>=0.3.1 in /Users/mfilipav/dev/semantic-kernel/python/venv/lib/python3.11/site-packages (from openapi_core<0.20,>=0.18->semantic-kernel) (0.3.4)\n",
      "Requirement already satisfied: more-itertools in /Users/mfilipav/dev/semantic-kernel/python/venv/lib/python3.11/site-packages (from openapi_core<0.20,>=0.18->semantic-kernel) (10.6.0)\n",
      "Requirement already satisfied: openapi-schema-validator<0.7.0,>=0.6.0 in /Users/mfilipav/dev/semantic-kernel/python/venv/lib/python3.11/site-packages (from openapi_core<0.20,>=0.18->semantic-kernel) (0.6.3)\n",
      "Requirement already satisfied: openapi-spec-validator<0.8.0,>=0.7.1 in /Users/mfilipav/dev/semantic-kernel/python/venv/lib/python3.11/site-packages (from openapi_core<0.20,>=0.18->semantic-kernel) (0.7.1)\n",
      "Requirement already satisfied: parse in /Users/mfilipav/dev/semantic-kernel/python/venv/lib/python3.11/site-packages (from openapi_core<0.20,>=0.18->semantic-kernel) (1.20.2)\n",
      "Requirement already satisfied: werkzeug<3.1.2 in /Users/mfilipav/dev/semantic-kernel/python/venv/lib/python3.11/site-packages (from openapi_core<0.20,>=0.18->semantic-kernel) (3.1.1)\n",
      "Requirement already satisfied: deprecated>=1.2.6 in /Users/mfilipav/dev/semantic-kernel/python/venv/lib/python3.11/site-packages (from opentelemetry-api~=1.24->semantic-kernel) (1.2.18)\n",
      "Requirement already satisfied: importlib-metadata<8.7.0,>=6.0 in /Users/mfilipav/dev/semantic-kernel/python/venv/lib/python3.11/site-packages (from opentelemetry-api~=1.24->semantic-kernel) (8.6.1)\n",
      "Requirement already satisfied: opentelemetry-semantic-conventions==0.53b1 in /Users/mfilipav/dev/semantic-kernel/python/venv/lib/python3.11/site-packages (from opentelemetry-sdk~=1.24->semantic-kernel) (0.53b1)\n",
      "Requirement already satisfied: chardet>=3.0 in /Users/mfilipav/dev/semantic-kernel/python/venv/lib/python3.11/site-packages (from prance~=23.6.21.0->semantic-kernel) (5.2.0)\n",
      "Requirement already satisfied: ruamel.yaml>=0.17.10 in /Users/mfilipav/dev/semantic-kernel/python/venv/lib/python3.11/site-packages (from prance~=23.6.21.0->semantic-kernel) (0.18.10)\n",
      "Requirement already satisfied: requests>=2.25 in /Users/mfilipav/dev/semantic-kernel/python/venv/lib/python3.11/site-packages (from prance~=23.6.21.0->semantic-kernel) (2.32.3)\n",
      "Requirement already satisfied: six~=1.15 in /Users/mfilipav/dev/semantic-kernel/python/venv/lib/python3.11/site-packages (from prance~=23.6.21.0->semantic-kernel) (1.17.0)\n",
      "Requirement already satisfied: packaging>=21.3 in /Users/mfilipav/dev/semantic-kernel/python/venv/lib/python3.11/site-packages (from prance~=23.6.21.0->semantic-kernel) (25.0)\n",
      "Requirement already satisfied: PyMeta3>=0.5.1 in /Users/mfilipav/dev/semantic-kernel/python/venv/lib/python3.11/site-packages (from pybars4~=0.9->semantic-kernel) (0.5.1)\n",
      "Requirement already satisfied: annotated-types>=0.6.0 in /Users/mfilipav/dev/semantic-kernel/python/venv/lib/python3.11/site-packages (from pydantic!=2.10.0,!=2.10.1,!=2.10.2,!=2.10.3,<2.12,>=2.0->semantic-kernel) (0.7.0)\n",
      "Requirement already satisfied: pydantic-core==2.33.1 in /Users/mfilipav/dev/semantic-kernel/python/venv/lib/python3.11/site-packages (from pydantic!=2.10.0,!=2.10.1,!=2.10.2,!=2.10.3,<2.12,>=2.0->semantic-kernel) (2.33.1)\n",
      "Requirement already satisfied: typing-inspection>=0.4.0 in /Users/mfilipav/dev/semantic-kernel/python/venv/lib/python3.11/site-packages (from pydantic!=2.10.0,!=2.10.1,!=2.10.2,!=2.10.3,<2.12,>=2.0->semantic-kernel) (0.4.0)\n",
      "Requirement already satisfied: python-dotenv>=0.21.0 in /Users/mfilipav/dev/semantic-kernel/python/venv/lib/python3.11/site-packages (from pydantic-settings~=2.0->semantic-kernel) (1.1.0)\n",
      "Requirement already satisfied: dnspython>=2.0.0 in /Users/mfilipav/dev/semantic-kernel/python/venv/lib/python3.11/site-packages (from aioice<1.0.0,>=0.9.0->aiortc>=1.9.0->semantic-kernel) (2.7.0)\n",
      "Requirement already satisfied: ifaddr>=0.2.0 in /Users/mfilipav/dev/semantic-kernel/python/venv/lib/python3.11/site-packages (from aioice<1.0.0,>=0.9.0->aiortc>=1.9.0->semantic-kernel) (0.2.0)\n",
      "Requirement already satisfied: idna>=2.8 in /Users/mfilipav/dev/semantic-kernel/python/venv/lib/python3.11/site-packages (from anyio<5,>=3.5.0->openai>=1.67->semantic-kernel) (3.10)\n",
      "Requirement already satisfied: pycparser in /Users/mfilipav/dev/semantic-kernel/python/venv/lib/python3.11/site-packages (from cffi>=1.0.0->aiortc>=1.9.0->semantic-kernel) (2.22)\n",
      "Requirement already satisfied: wrapt<2,>=1.10 in /Users/mfilipav/dev/semantic-kernel/python/venv/lib/python3.11/site-packages (from deprecated>=1.2.6->opentelemetry-api~=1.24->semantic-kernel) (1.17.2)\n",
      "Requirement already satisfied: certifi in /Users/mfilipav/dev/semantic-kernel/python/venv/lib/python3.11/site-packages (from httpx<1,>=0.23.0->openai>=1.67->semantic-kernel) (2025.1.31)\n",
      "Requirement already satisfied: httpcore==1.* in /Users/mfilipav/dev/semantic-kernel/python/venv/lib/python3.11/site-packages (from httpx<1,>=0.23.0->openai>=1.67->semantic-kernel) (1.0.8)\n",
      "Requirement already satisfied: h11<0.15,>=0.13 in /Users/mfilipav/dev/semantic-kernel/python/venv/lib/python3.11/site-packages (from httpcore==1.*->httpx<1,>=0.23.0->openai>=1.67->semantic-kernel) (0.14.0)\n",
      "Requirement already satisfied: zipp>=3.20 in /Users/mfilipav/dev/semantic-kernel/python/venv/lib/python3.11/site-packages (from importlib-metadata<8.7.0,>=6.0->opentelemetry-api~=1.24->semantic-kernel) (3.21.0)\n",
      "Requirement already satisfied: jsonschema-specifications>=2023.03.6 in /Users/mfilipav/dev/semantic-kernel/python/venv/lib/python3.11/site-packages (from jsonschema<5.0.0,>=4.18.0->openapi_core<0.20,>=0.18->semantic-kernel) (2024.10.1)\n",
      "Requirement already satisfied: referencing>=0.28.4 in /Users/mfilipav/dev/semantic-kernel/python/venv/lib/python3.11/site-packages (from jsonschema<5.0.0,>=4.18.0->openapi_core<0.20,>=0.18->semantic-kernel) (0.36.2)\n",
      "Requirement already satisfied: rpds-py>=0.7.1 in /Users/mfilipav/dev/semantic-kernel/python/venv/lib/python3.11/site-packages (from jsonschema<5.0.0,>=4.18.0->openapi_core<0.20,>=0.18->semantic-kernel) (0.24.0)\n",
      "Requirement already satisfied: PyYAML>=5.1 in /Users/mfilipav/dev/semantic-kernel/python/venv/lib/python3.11/site-packages (from jsonschema-path<0.4.0,>=0.3.1->openapi_core<0.20,>=0.18->semantic-kernel) (6.0.2)\n",
      "Requirement already satisfied: pathable<0.5.0,>=0.4.1 in /Users/mfilipav/dev/semantic-kernel/python/venv/lib/python3.11/site-packages (from jsonschema-path<0.4.0,>=0.3.1->openapi_core<0.20,>=0.18->semantic-kernel) (0.4.4)\n",
      "Requirement already satisfied: PyJWT[crypto]<3,>=1.0.0 in /Users/mfilipav/dev/semantic-kernel/python/venv/lib/python3.11/site-packages (from msal>=1.30.0->azure-identity>=1.13->semantic-kernel) (2.10.1)\n",
      "Requirement already satisfied: rfc3339-validator in /Users/mfilipav/dev/semantic-kernel/python/venv/lib/python3.11/site-packages (from openapi-schema-validator<0.7.0,>=0.6.0->openapi_core<0.20,>=0.18->semantic-kernel) (0.1.4)\n",
      "Requirement already satisfied: lazy-object-proxy<2.0.0,>=1.7.1 in /Users/mfilipav/dev/semantic-kernel/python/venv/lib/python3.11/site-packages (from openapi-spec-validator<0.8.0,>=0.7.1->openapi_core<0.20,>=0.18->semantic-kernel) (1.11.0)\n",
      "Requirement already satisfied: charset-normalizer<4,>=2 in /Users/mfilipav/dev/semantic-kernel/python/venv/lib/python3.11/site-packages (from requests>=2.25->prance~=23.6.21.0->semantic-kernel) (3.4.1)\n",
      "Requirement already satisfied: urllib3<3,>=1.21.1 in /Users/mfilipav/dev/semantic-kernel/python/venv/lib/python3.11/site-packages (from requests>=2.25->prance~=23.6.21.0->semantic-kernel) (2.4.0)\n",
      "Requirement already satisfied: ruamel.yaml.clib>=0.2.7 in /Users/mfilipav/dev/semantic-kernel/python/venv/lib/python3.11/site-packages (from ruamel.yaml>=0.17.10->prance~=23.6.21.0->semantic-kernel) (0.2.12)\n",
      "\n",
      "\u001b[1m[\u001b[0m\u001b[34;49mnotice\u001b[0m\u001b[1;39;49m]\u001b[0m\u001b[39;49m A new release of pip available: \u001b[0m\u001b[31;49m22.3.1\u001b[0m\u001b[39;49m -> \u001b[0m\u001b[32;49m25.0.1\u001b[0m\n",
      "\u001b[1m[\u001b[0m\u001b[34;49mnotice\u001b[0m\u001b[1;39;49m]\u001b[0m\u001b[39;49m To update, run: \u001b[0m\u001b[32;49mpip install --upgrade pip\u001b[0m\n",
      "Note: you may need to restart the kernel to use updated packages.\n"
     ]
    },
    {
     "data": {
      "text/plain": [
       "'1.28.1'"
      ]
     },
     "execution_count": 1,
     "metadata": {},
     "output_type": "execute_result"
    }
   ],
   "source": [
    "# Note: if using a virtual environment, do not run this cell\n",
    "%pip install -U semantic-kernel\n",
    "from semantic_kernel import __version__\n",
    "\n",
    "__version__"
   ]
  },
  {
   "cell_type": "markdown",
   "metadata": {},
   "source": [
    "Initial configuration for the notebook to run properly."
   ]
  },
  {
   "cell_type": "code",
   "execution_count": 6,
   "metadata": {},
   "outputs": [],
   "source": [
    "# Make sure paths are correct for the imports\n",
    "\n",
    "import os\n",
    "import sys\n",
    "from pprint import pprint\n",
    "notebook_dir = os.path.abspath(\"\")\n",
    "parent_dir = os.path.dirname(notebook_dir)\n",
    "grandparent_dir = os.path.dirname(parent_dir)\n",
    "\n",
    "\n",
    "sys.path.append(grandparent_dir)"
   ]
  },
  {
   "cell_type": "markdown",
   "metadata": {},
   "source": [
    "### Configuring the Kernel\n",
    "\n",
    "Let's get started with the necessary configuration to run Semantic Kernel. For Notebooks, we require a `.env` file with the proper settings for the model you use. Create a new file named `.env` and place it in this directory. Copy the contents of the `.env.example` file from this directory and paste it into the `.env` file that you just created.\n",
    "\n",
    "**NOTE: Please make sure to include `GLOBAL_LLM_SERVICE` set to either OpenAI, AzureOpenAI, or HuggingFace in your .env file. If this setting is not included, the Service will default to AzureOpenAI.**\n",
    "\n",
    "#### Option 1: using OpenAI\n",
    "\n",
    "Add your [OpenAI Key](https://openai.com/product/) key to your `.env` file (org Id only if you have multiple orgs):\n",
    "\n",
    "```\n",
    "GLOBAL_LLM_SERVICE=\"OpenAI\"\n",
    "OPENAI_API_KEY=\"sk-...\"\n",
    "OPENAI_ORG_ID=\"\"\n",
    "OPENAI_CHAT_MODEL_ID=\"\"\n",
    "OPENAI_TEXT_MODEL_ID=\"\"\n",
    "OPENAI_EMBEDDING_MODEL_ID=\"\"\n",
    "```\n",
    "The names should match the names used in the `.env` file, as shown above.\n",
    "\n",
    "#### Option 2: using Azure OpenAI\n",
    "\n",
    "Add your [Azure Open AI Service key](https://learn.microsoft.com/azure/cognitive-services/openai/quickstart?pivots=programming-language-studio) settings to the `.env` file in the same folder:\n",
    "\n",
    "```\n",
    "GLOBAL_LLM_SERVICE=\"AzureOpenAI\"\n",
    "AZURE_OPENAI_API_KEY=\"...\"\n",
    "AZURE_OPENAI_ENDPOINT=\"https://...\"\n",
    "AZURE_OPENAI_CHAT_DEPLOYMENT_NAME=\"...\"\n",
    "AZURE_OPENAI_TEXT_DEPLOYMENT_NAME=\"...\"\n",
    "AZURE_OPENAI_EMBEDDING_DEPLOYMENT_NAME=\"...\"\n",
    "AZURE_OPENAI_API_VERSION=\"...\"\n",
    "```\n",
    "The names should match the names used in the `.env` file, as shown above.\n",
    "\n",
    "For more advanced configuration, please follow the steps outlined in the [setup guide](./CONFIGURING_THE_KERNEL.md)."
   ]
  },
  {
   "cell_type": "markdown",
   "metadata": {},
   "source": [
    "Let's define our kernel for this example."
   ]
  },
  {
   "cell_type": "code",
   "execution_count": 2,
   "metadata": {},
   "outputs": [],
   "source": [
    "from semantic_kernel import Kernel\n",
    "\n",
    "kernel = Kernel()"
   ]
  },
  {
   "cell_type": "markdown",
   "metadata": {},
   "source": [
    "We will load our settings and get the LLM service to use for the notebook."
   ]
  },
  {
   "cell_type": "code",
   "execution_count": 3,
   "metadata": {},
   "outputs": [
    {
     "name": "stdout",
     "output_type": "stream",
     "text": [
      "Using service type: Service.AzureOpenAI\n"
     ]
    }
   ],
   "source": [
    "from services import Service\n",
    "\n",
    "from samples.service_settings import ServiceSettings\n",
    "\n",
    "service_settings = ServiceSettings(env_file_path=os.path.join(notebook_dir, \".env\"))\n",
    "\n",
    "# Select a service to use for this notebook (available services: OpenAI, AzureOpenAI, HuggingFace)\n",
    "selectedService = (\n",
    "    Service.AzureOpenAI\n",
    "    if service_settings.global_llm_service is None\n",
    "    else Service(service_settings.global_llm_service.lower())\n",
    ")\n",
    "print(f\"Using service type: {selectedService}\")"
   ]
  },
  {
   "cell_type": "code",
   "execution_count": 4,
   "metadata": {},
   "outputs": [
    {
     "name": "stdout",
     "output_type": "stream",
     "text": [
      "env_file_path='/Users/mfilipav/dev/semantic-kernel/python/samples/getting_started/.env' env_file_encoding='utf-8' global_llm_service='AzureOpenAI'\n"
     ]
    }
   ],
   "source": [
    "print(service_settings)"
   ]
  },
  {
   "cell_type": "markdown",
   "metadata": {},
   "source": [
    "We now configure our Chat Completion service on the kernel."
   ]
  },
  {
   "cell_type": "code",
   "execution_count": 8,
   "metadata": {},
   "outputs": [
    {
     "name": "stdout",
     "output_type": "stream",
     "text": [
      "Kernel(retry_mechanism=PassThroughWithoutRetry(), services={'default': AzureChatCompletion(ai_model_id='gpt-4o', service_id='default', instruction_role='system', client=<openai.lib.azure.AsyncAzureOpenAI object at 0x120c12010>, ai_model_type=<OpenAIModelTypes.CHAT: 'chat'>, prompt_tokens=0, completion_tokens=0, total_tokens=0)}, ai_service_selector=<semantic_kernel.services.ai_service_selector.AIServiceSelector object at 0x120d0ee90>, plugins={}, function_invocation_filters=[], prompt_rendering_filters=[], auto_function_invocation_filters=[])\n"
     ]
    },
    {
     "data": {
      "text/plain": [
       "\"\\nKernel(\\n    retry_mechanism=PassThroughWithoutRetry(),\\n    services={\\n        'default': AzureChatCompletion(\\n            ai_model_id='gpt-4o',\\n            service_id='default',\\n            instruction_role='system',\\n            client=<openai.lib.azure.AsyncAzureOpenAI object at 0x12099b310>,\\n            ai_model_type=<OpenAIModelTypes.CHAT: 'chat'>,\\n            prompt_tokens=0,\\n            completion_tokens=0,\\n            total_tokens=0\\n        )\\n    },\\n    ai_service_selector=<semantic_kernel.services.ai_service_selector.AIServiceSelector object at 0x120d0ee90>,\\n    plugins={},\\n    function_invocation_filters=[],\\n    prompt_rendering_filters=[],\\n    auto_function_invocation_filters=[]\\n)\\n\""
      ]
     },
     "execution_count": 8,
     "metadata": {},
     "output_type": "execute_result"
    }
   ],
   "source": [
    "# Remove all services so that this cell can be re-run without restarting the kernel\n",
    "kernel.remove_all_services()\n",
    "\n",
    "service_id = None\n",
    "if selectedService == Service.OpenAI:\n",
    "    from semantic_kernel.connectors.ai.open_ai import OpenAIChatCompletion\n",
    "\n",
    "    service_id = \"default\"\n",
    "    kernel.add_service(\n",
    "        OpenAIChatCompletion(\n",
    "            service_id=service_id,\n",
    "        ),\n",
    "    )\n",
    "elif selectedService == Service.AzureOpenAI:\n",
    "    from semantic_kernel.connectors.ai.open_ai import AzureChatCompletion\n",
    "\n",
    "    service_id = \"default\"\n",
    "    kernel.add_service(\n",
    "        AzureChatCompletion(\n",
    "            service_id=service_id,\n",
    "        ),\n",
    "    )\n",
    "pprint(kernel)\n",
    "\"\"\"\n",
    "Kernel(\n",
    "    retry_mechanism=PassThroughWithoutRetry(),\n",
    "    services={\n",
    "        'default': AzureChatCompletion(\n",
    "            ai_model_id='gpt-4o',\n",
    "            service_id='default',\n",
    "            instruction_role='system',\n",
    "            client=<openai.lib.azure.AsyncAzureOpenAI object at 0x12099b310>,\n",
    "            ai_model_type=<OpenAIModelTypes.CHAT: 'chat'>,\n",
    "            prompt_tokens=0,\n",
    "            completion_tokens=0,\n",
    "            total_tokens=0\n",
    "        )\n",
    "    },\n",
    "    ai_service_selector=<semantic_kernel.services.ai_service_selector.AIServiceSelector object at 0x120d0ee90>,\n",
    "    plugins={},\n",
    "    function_invocation_filters=[],\n",
    "    prompt_rendering_filters=[],\n",
    "    auto_function_invocation_filters=[]\n",
    ")\n",
    "\"\"\""
   ]
  },
  {
   "attachments": {},
   "cell_type": "markdown",
   "metadata": {},
   "source": [
    "# Run a Semantic Function\n",
    "\n",
    "**Step 3**: Load a Plugin and run a semantic function:\n"
   ]
  },
  {
   "cell_type": "code",
   "execution_count": 9,
   "metadata": {},
   "outputs": [],
   "source": [
    "plugin = kernel.add_plugin(\n",
    "    parent_directory=\"../../../prompt_template_samples/\", plugin_name=\"FunPlugin\"\n",
    ")"
   ]
  },
  {
   "cell_type": "code",
   "execution_count": 13,
   "metadata": {},
   "outputs": [
    {
     "name": "stdout",
     "output_type": "stream",
     "text": [
      "Why did the time traveler bring a suitcase full of sandwiches to the dinosaur age?\n",
      "\n",
      "Because he heard the T. rex was *terrible* at handling fast food!\n"
     ]
    }
   ],
   "source": [
    "from semantic_kernel.functions import KernelArguments\n",
    "\n",
    "joke_function = plugin[\"Joke\"]\n",
    "\n",
    "joke = await kernel.invoke(\n",
    "    function=joke_function,\n",
    "    arguments=KernelArguments(input=\"time travel to dinosaur age\", style=\"super silly\"),\n",
    ")\n",
    "print(joke)"
   ]
  },
  {
   "cell_type": "code",
   "execution_count": null,
   "metadata": {},
   "outputs": [],
   "source": []
  }
 ],
 "metadata": {
  "kernelspec": {
   "display_name": "venv",
   "language": "python",
   "name": "python3"
  },
  "language_info": {
   "codemirror_mode": {
    "name": "ipython",
    "version": 3
   },
   "file_extension": ".py",
   "mimetype": "text/x-python",
   "name": "python",
   "nbconvert_exporter": "python",
   "pygments_lexer": "ipython3",
   "version": "3.11.2"
  }
 },
 "nbformat": 4,
 "nbformat_minor": 2
}
